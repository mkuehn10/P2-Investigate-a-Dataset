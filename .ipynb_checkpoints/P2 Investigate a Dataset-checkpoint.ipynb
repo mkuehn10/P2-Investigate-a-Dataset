{
 "cells": [
  {
   "cell_type": "code",
   "execution_count": 126,
   "metadata": {
    "collapsed": false
   },
   "outputs": [
    {
     "name": "stdout",
     "output_type": "stream",
     "text": [
      "Populating the interactive namespace from numpy and matplotlib\n"
     ]
    },
    {
     "data": {
      "text/html": [
       "<div>\n",
       "<table border=\"1\" class=\"dataframe\">\n",
       "  <thead>\n",
       "    <tr style=\"text-align: right;\">\n",
       "      <th></th>\n",
       "      <th>PassengerId</th>\n",
       "      <th>Survived</th>\n",
       "      <th>Pclass</th>\n",
       "      <th>Name</th>\n",
       "      <th>Sex</th>\n",
       "      <th>Age</th>\n",
       "      <th>SibSp</th>\n",
       "      <th>Parch</th>\n",
       "      <th>Ticket</th>\n",
       "      <th>Fare</th>\n",
       "      <th>Cabin</th>\n",
       "      <th>Embarked</th>\n",
       "    </tr>\n",
       "  </thead>\n",
       "  <tbody>\n",
       "    <tr>\n",
       "      <th>0</th>\n",
       "      <td>1</td>\n",
       "      <td>0</td>\n",
       "      <td>3</td>\n",
       "      <td>Braund, Mr. Owen Harris</td>\n",
       "      <td>male</td>\n",
       "      <td>22</td>\n",
       "      <td>1</td>\n",
       "      <td>0</td>\n",
       "      <td>A/5 21171</td>\n",
       "      <td>7.2500</td>\n",
       "      <td>NaN</td>\n",
       "      <td>S</td>\n",
       "    </tr>\n",
       "    <tr>\n",
       "      <th>1</th>\n",
       "      <td>2</td>\n",
       "      <td>1</td>\n",
       "      <td>1</td>\n",
       "      <td>Cumings, Mrs. John Bradley (Florence Briggs Th...</td>\n",
       "      <td>female</td>\n",
       "      <td>38</td>\n",
       "      <td>1</td>\n",
       "      <td>0</td>\n",
       "      <td>PC 17599</td>\n",
       "      <td>71.2833</td>\n",
       "      <td>C85</td>\n",
       "      <td>C</td>\n",
       "    </tr>\n",
       "    <tr>\n",
       "      <th>2</th>\n",
       "      <td>3</td>\n",
       "      <td>1</td>\n",
       "      <td>3</td>\n",
       "      <td>Heikkinen, Miss. Laina</td>\n",
       "      <td>female</td>\n",
       "      <td>26</td>\n",
       "      <td>0</td>\n",
       "      <td>0</td>\n",
       "      <td>STON/O2. 3101282</td>\n",
       "      <td>7.9250</td>\n",
       "      <td>NaN</td>\n",
       "      <td>S</td>\n",
       "    </tr>\n",
       "    <tr>\n",
       "      <th>3</th>\n",
       "      <td>4</td>\n",
       "      <td>1</td>\n",
       "      <td>1</td>\n",
       "      <td>Futrelle, Mrs. Jacques Heath (Lily May Peel)</td>\n",
       "      <td>female</td>\n",
       "      <td>35</td>\n",
       "      <td>1</td>\n",
       "      <td>0</td>\n",
       "      <td>113803</td>\n",
       "      <td>53.1000</td>\n",
       "      <td>C123</td>\n",
       "      <td>S</td>\n",
       "    </tr>\n",
       "    <tr>\n",
       "      <th>4</th>\n",
       "      <td>5</td>\n",
       "      <td>0</td>\n",
       "      <td>3</td>\n",
       "      <td>Allen, Mr. William Henry</td>\n",
       "      <td>male</td>\n",
       "      <td>35</td>\n",
       "      <td>0</td>\n",
       "      <td>0</td>\n",
       "      <td>373450</td>\n",
       "      <td>8.0500</td>\n",
       "      <td>NaN</td>\n",
       "      <td>S</td>\n",
       "    </tr>\n",
       "  </tbody>\n",
       "</table>\n",
       "</div>"
      ],
      "text/plain": [
       "   PassengerId  Survived  Pclass  \\\n",
       "0            1         0       3   \n",
       "1            2         1       1   \n",
       "2            3         1       3   \n",
       "3            4         1       1   \n",
       "4            5         0       3   \n",
       "\n",
       "                                                Name     Sex  Age  SibSp  \\\n",
       "0                            Braund, Mr. Owen Harris    male   22      1   \n",
       "1  Cumings, Mrs. John Bradley (Florence Briggs Th...  female   38      1   \n",
       "2                             Heikkinen, Miss. Laina  female   26      0   \n",
       "3       Futrelle, Mrs. Jacques Heath (Lily May Peel)  female   35      1   \n",
       "4                           Allen, Mr. William Henry    male   35      0   \n",
       "\n",
       "   Parch            Ticket     Fare Cabin Embarked  \n",
       "0      0         A/5 21171   7.2500   NaN        S  \n",
       "1      0          PC 17599  71.2833   C85        C  \n",
       "2      0  STON/O2. 3101282   7.9250   NaN        S  \n",
       "3      0            113803  53.1000  C123        S  \n",
       "4      0            373450   8.0500   NaN        S  "
      ]
     },
     "execution_count": 126,
     "metadata": {},
     "output_type": "execute_result"
    }
   ],
   "source": [
    "import numpy as np \n",
    "import pandas as pd\n",
    "import matplotlib.pyplot as plt\n",
    "import seaborn as sns\n",
    "import scipy.stats as sp\n",
    "%pylab inline\n",
    "\n",
    "titanic_df = pd.read_csv('titanic_data.csv')\n",
    "titanic_df.head()"
   ]
  },
  {
   "cell_type": "markdown",
   "metadata": {},
   "source": [
    "Methods for creating one-way and two-way tables were modified from [Python for Data Analysis Part 19: Frequency Tables](http://hamelg.blogspot.com/2015/11/python-for-data-analysis-part-19_17.html)\n",
    "\n",
    "This project focuses on an analysis of the Titanic data.\n",
    "\n",
    "# Question Phase\n",
    "## Possible Questions\n",
    "1) Is there a relationship between survival and port of embarkation?   \n",
    "2) Do people who embark at the different ports have anything in common?   \n",
    "3) Is there anything interesting to note about passenger ages?"
   ]
  },
  {
   "cell_type": "markdown",
   "metadata": {},
   "source": [
    "# Wrangle/Explore Phase\n",
    "\n",
    "The data was read in from the provided csv file.   \n",
    "\n",
    "Since the main variables of interest are survival, point of embarkation, and age, these columns in the csv will be analyzed and cleaned to handle any missing values.\n",
    "\n",
    "Any points of embarkation that are missing will be dropped from the table since there is no discernible way to determine what port a passenger came from based on this data.  This only affects 2 of the rows.\n",
    "\n",
    "Several of the rows in the csv file did not contain ages for the passengers.  Two methods of handling these missing ages will be used in the analysis."
   ]
  },
  {
   "cell_type": "code",
   "execution_count": 161,
   "metadata": {
    "collapsed": false
   },
   "outputs": [
    {
     "name": "stdout",
     "output_type": "stream",
     "text": [
      "Records in original csv: 891\n",
      "Records after removing missing ports of embarkation: 889\n",
      "Records after removing missing ages: 714\n",
      "Records when interpolating ages: 891\n"
     ]
    }
   ],
   "source": [
    "print \"Records in original csv:\",len(titanic_df)\n",
    "\n",
    "# Create DataFrame with Point of Embarkation mising values removed\n",
    "titanic_missing_embark_removed_df = titanic_df.dropna(subset = ['Embarked'])\n",
    "print \"Records after removing missing ports of embarkation:\",len(titanic_missing_embark_removed_df)\n",
    "\n",
    "# Create DataFrame with ages handled -- remove any missing / use interpolation\n",
    "ages_missing_removed_df = titanic_df['Age'].dropna()\n",
    "print \"Records after removing missing ages:\",len(ages_missing_removed_df)\n",
    "\n",
    "ages_missing_removed_interpolation_df = titanic_df['Age'].interpolate()\n",
    "print \"Records when interpolating ages:\",len(ages_missing_removed_interpolation_df)\n",
    "\n"
   ]
  },
  {
   "cell_type": "markdown",
   "metadata": {},
   "source": [
    "The first two tables below show a general summary of the passenger survival and passenger port of embarkation."
   ]
  },
  {
   "cell_type": "code",
   "execution_count": 162,
   "metadata": {
    "collapsed": false
   },
   "outputs": [
    {
     "name": "stdout",
     "output_type": "stream",
     "text": [
      "col_0     Count\n",
      "Survived       \n",
      "0           549\n",
      "1           340\n",
      "col_0        Count\n",
      "Survived          \n",
      "0         0.617548\n",
      "1         0.382452\n"
     ]
    }
   ],
   "source": [
    "survived_table = pd.crosstab(index = titanic_missing_embark_removed_df['Survived'], columns = 'Count')\n",
    "print survived_table\n",
    "print survived_table / survived_table.sum()"
   ]
  },
  {
   "cell_type": "code",
   "execution_count": 163,
   "metadata": {
    "collapsed": false
   },
   "outputs": [
    {
     "name": "stdout",
     "output_type": "stream",
     "text": [
      "col_0     Count\n",
      "Embarked       \n",
      "C           168\n",
      "Q            77\n",
      "S           644\n",
      "col_0        Count\n",
      "Embarked          \n",
      "C         0.188976\n",
      "Q         0.086614\n",
      "S         0.724409\n"
     ]
    }
   ],
   "source": [
    "embark_table = pd.crosstab(index = titanic_missing_embark_removed_df['Embarked'], columns = 'Count')\n",
    "print embark_table\n",
    "print embark_table / embark_table.sum()"
   ]
  },
  {
   "cell_type": "markdown",
   "metadata": {},
   "source": [
    "The important information to note from these two tables is that 61.75% of all of the passengers did not survive.  Based on the second table grouped by embark location, it appears that the majority (72.44%) of the passengers embarked at Southampton.  The smallest percentage of passengers (8.66%) embarked at Queenstown.\n",
    "\n",
    "The next part of exploring the data involved creating a two-way table to analyze any relationship between survival and port of embarkation."
   ]
  },
  {
   "cell_type": "code",
   "execution_count": 164,
   "metadata": {
    "collapsed": false
   },
   "outputs": [
    {
     "name": "stdout",
     "output_type": "stream",
     "text": [
      "              Cherbourg  Queenstown  Southampton  Row Total\n",
      "Died                 75          47          427        549\n",
      "Survived             93          30          217        340\n",
      "Column Total        168          77          644        889\n",
      "\n",
      "               Cherbourg  Queenstown  Southampton  Row Total\n",
      "Died          103.748031   47.551181   397.700787        549\n",
      "Survived       64.251969   29.448819   246.299213        340\n",
      "Column Total  168.000000   77.000000   644.000000        889\n"
     ]
    }
   ],
   "source": [
    "survived_by_embark_table = pd.crosstab(index = titanic_missing_embark_removed_df['Survived'], \n",
    "                                       columns = titanic_missing_embark_removed_df['Embarked'], margins = True)\n",
    "survived_by_embark_table.index = ['Died', 'Survived', 'Column Total']\n",
    "survived_by_embark_table.columns = ['Cherbourg', 'Queenstown', 'Southampton', 'Row Total']\n",
    "print survived_by_embark_table\n",
    "print\n",
    "survived_by_embark_table_expected = pd.DataFrame(sp.chi2_contingency(survived_by_embark_table)[3], \n",
    "                                                 columns = ['Cherbourg', 'Queenstown', 'Southampton', 'Row Total'],\n",
    "                                                 index = ['Died', 'Survived', 'Column Total'])\n",
    "print survived_by_embark_table_expected\n",
    "\n",
    "# First table is observed\n",
    "# Second table is expected"
   ]
  },
  {
   "cell_type": "markdown",
   "metadata": {},
   "source": [
    "The first table shows the actual data grouped by survival and port of embarkation.  The second table shows the expected values for the table if there was no relationship between survival and port of embarkation.  I used a chi-square test function in order go generate this table (no statistical test will actually be used in this analysis).  For example, since there were 77 passengers who embarked at Queenstown, this means that 8.66% (77 / 889) of all passengers embarked at Queenstown.  If the port of embarkation did not have some type of relationship with whether or not a passenger survived, one would expect that 8.6% of all those who died or survived would be represented from passengers who embarked at Queenstown.  This is exactly what the expected table is showing (47.55 / 549 ~ 8.66% and 29.45 / 340 ~ 8.66%).\n",
    "\n",
    "A basic bar chart is created to examine the counts shown in the two-way table between survival and port of embarkation."
   ]
  },
  {
   "cell_type": "code",
   "execution_count": 165,
   "metadata": {
    "collapsed": false
   },
   "outputs": [
    {
     "data": {
      "text/plain": [
       "<matplotlib.axes._subplots.AxesSubplot at 0x121c9358>"
      ]
     },
     "execution_count": 165,
     "metadata": {},
     "output_type": "execute_result"
    },
    {
     "data": {
      "image/png": "[encoded data removed]",
      "text/plain": [
       "<matplotlib.figure.Figure at 0x10c74ac8>"
      ]
     },
     "metadata": {},
     "output_type": "display_data"
    }
   ],
   "source": [
    "survived_by_embark_table_no_margins = pd.crosstab(index = titanic_missing_embark_removed_df['Survived'], \n",
    "                                                  columns = titanic_missing_embark_removed_df['Embarked'])\n",
    "survived_by_embark_table_no_margins.index = ['Died', 'Survived']\n",
    "survived_by_embark_table_no_margins.columns = ['Cherbourg', 'Queenstown', 'Southampton']\n",
    "survived_by_embark_table_no_margins.plot(kind = 'bar', title = 'Port of Embarkation Grouped by Survival')"
   ]
  },
  {
   "cell_type": "markdown",
   "metadata": {},
   "source": [
    "Since this chart includes the raw counts from the table, it is harder to make comparisons.  For example, one can see that there are a lot of Southampton passengers who died; however, it is difficult to tell if this raises any concerns since a majority of the passengers embarked at Southampton.\n",
    "\n",
    "A better way to analyze the data is to create a table that displays the proportion of counts along each row.  This will allow one to answer questions related to the survival such as, \"Of the passengers who died, what proportion embarked at Southampton?\""
   ]
  },
  {
   "cell_type": "code",
   "execution_count": 166,
   "metadata": {
    "collapsed": false
   },
   "outputs": [
    {
     "name": "stdout",
     "output_type": "stream",
     "text": [
      "              Cherbourg  Queenstown  Southampton  Row Total\n",
      "Died           0.136612    0.085610     0.777778          1\n",
      "Survived       0.273529    0.088235     0.638235          1\n",
      "Column Total   0.188976    0.086614     0.724409          1\n"
     ]
    }
   ],
   "source": [
    "survived_by_embark_table_proportions = survived_by_embark_table.div(survived_by_embark_table['Row Total'], axis = 0)\n",
    "print survived_by_embark_table_proportions"
   ]
  },
  {
   "cell_type": "markdown",
   "metadata": {},
   "source": [
    "This shows that of all the passengers who did not survive, 13.66% embarked at Cherbourg, 8.56% embarked at Queenstown, and 77.78% embarked at Southampton.\n",
    "\n",
    "The following table shows the expected proportions."
   ]
  },
  {
   "cell_type": "code",
   "execution_count": 167,
   "metadata": {
    "collapsed": false
   },
   "outputs": [
    {
     "name": "stdout",
     "output_type": "stream",
     "text": [
      "              Cherbourg  Queenstown  Southampton  Row Total\n",
      "Died           0.188976    0.086614     0.724409          1\n",
      "Survived       0.188976    0.086614     0.724409          1\n",
      "Column Total   0.188976    0.086614     0.724409          1\n"
     ]
    }
   ],
   "source": [
    "survived_by_embark_table_expected_proportions = survived_by_embark_table_expected.div(\n",
    "                                                    survived_by_embark_table_expected['Row Total'], axis = 0)\n",
    "print survived_by_embark_table_expected_proportions"
   ]
  },
  {
   "cell_type": "markdown",
   "metadata": {},
   "source": [
    "It is interesting to note here that this table shows why these values would be expected if there were no relationship between surival and port of embarkation.  A cursory analysis which would need to be verified with further statistical tests shows can be completed.  It appears that there are discrepancies in the passengers who embarked at Cherbourg and Southampton.\n",
    "\n",
    "A bar chart of the proportions can be created to get a better look at the data."
   ]
  },
  {
   "cell_type": "code",
   "execution_count": 168,
   "metadata": {
    "collapsed": false
   },
   "outputs": [
    {
     "data": {
      "text/plain": [
       "<matplotlib.axes._subplots.AxesSubplot at 0x1194fe48>"
      ]
     },
     "execution_count": 168,
     "metadata": {},
     "output_type": "execute_result"
    },
    {
     "data": {
      "image/png": "[encoded data removed]",
      "text/plain": [
       "<matplotlib.figure.Figure at 0x122bf4e0>"
      ]
     },
     "metadata": {},
     "output_type": "display_data"
    }
   ],
   "source": [
    "survived_by_embark_table_proportions.plot(kind = 'bar', title = 'Port of Embarkation Grouped by Survival (Proportions)')"
   ]
  },
  {
   "cell_type": "markdown",
   "metadata": {},
   "source": [
    "Since the vertical axis of this bar chart is frequency, comparisons can be made that are more meaningful.  For example, it is easy to see that the proportion of those who died is lower in passengers who embarked at Cherbourg.  One can also see that the proportion of those who died is higher in passengers who embarked at Southampton.  There is no discernible difference between the proportion of survival for passengers who embarked at Queenstown.\n",
    "\n",
    "Since there does appear to be some kind of relationship between survival and port of embarkation, it may be worthwhile to look into the port of embarkation variable further.  The first thought that came to mind was to analyze the passenger class and its relationship with port of embarkation.  Tables summarizing this relationship are below."
   ]
  },
  {
   "cell_type": "code",
   "execution_count": 169,
   "metadata": {
    "collapsed": false
   },
   "outputs": [
    {
     "name": "stdout",
     "output_type": "stream",
     "text": [
      "              1st Class  2nd Class  3rd Class  Row Total\n",
      "Cherbourg            85         17         66        168\n",
      "Queenstown            2          3         72         77\n",
      "Southampton         127        164        353        644\n",
      "Column Total        214        184        491        889\n",
      "\n",
      "              1st Class  2nd Class  3rd Class  Row Total\n",
      "Cherbourg      0.505952   0.101190   0.392857          1\n",
      "Queenstown     0.025974   0.038961   0.935065          1\n",
      "Southampton    0.197205   0.254658   0.548137          1\n",
      "Column Total   0.240720   0.206974   0.552306          1\n"
     ]
    }
   ],
   "source": [
    "embark_by_class_table = pd.crosstab(index = titanic_missing_embark_removed_df['Embarked'], \n",
    "                                    columns = titanic_missing_embark_removed_df['Pclass'], margins = True)\n",
    "embark_by_class_table.index = ['Cherbourg', 'Queenstown', 'Southampton', 'Column Total']\n",
    "embark_by_class_table.columns = ['1st Class', '2nd Class', '3rd Class', 'Row Total']\n",
    "print embark_by_class_table\n",
    "print\n",
    "print embark_by_class_table.div(embark_by_class_table['Row Total'], axis = 0)"
   ]
  },
  {
   "cell_type": "markdown",
   "metadata": {},
   "source": [
    "Two interesting details jump out from the table of row proportions.  First, 50.60% of the Cherbourg passengers are 1st Class passengers.  Second, 54.81% of the Southampton passengers are 3rd Class passengers.  Another interesting observation is that a large percentage of the Queenstown passengers were 3rd Class. \n",
    "\n",
    "Histograms of the data with the ages removed and the ages interpolated were created in order to analyze any interesting patterns within the ages of the passengers."
   ]
  },
  {
   "cell_type": "code",
   "execution_count": 152,
   "metadata": {
    "collapsed": false
   },
   "outputs": [
    {
     "data": {
      "text/plain": [
       "count    714.000000\n",
       "mean      29.699118\n",
       "std       14.526497\n",
       "min        0.420000\n",
       "25%       20.125000\n",
       "50%       28.000000\n",
       "75%       38.000000\n",
       "max       80.000000\n",
       "Name: Age, dtype: float64"
      ]
     },
     "execution_count": 152,
     "metadata": {},
     "output_type": "execute_result"
    },
    {
     "data": {
      "image/png": "[encoded data removed]",
      "text/plain": [
       "<matplotlib.figure.Figure at 0x119312b0>"
      ]
     },
     "metadata": {},
     "output_type": "display_data"
    }
   ],
   "source": [
    "ages_missing_removed_df.plot(kind = 'hist', title = 'Histogram of Titanic Passenger Ages (Removed)')\n",
    "ages_missing_removed_df.describe()"
   ]
  },
  {
   "cell_type": "code",
   "execution_count": 153,
   "metadata": {
    "collapsed": false
   },
   "outputs": [
    {
     "data": {
      "text/plain": [
       "count    891.000000\n",
       "mean      29.726061\n",
       "std       13.902353\n",
       "min        0.420000\n",
       "25%       21.000000\n",
       "50%       28.500000\n",
       "75%       38.000000\n",
       "max       80.000000\n",
       "Name: Age, dtype: float64"
      ]
     },
     "execution_count": 153,
     "metadata": {},
     "output_type": "execute_result"
    },
    {
     "data": {
      "image/png": "[encoded data removed]",
      "text/plain": [
       "<matplotlib.figure.Figure at 0x12195080>"
      ]
     },
     "metadata": {},
     "output_type": "display_data"
    }
   ],
   "source": [
    "ages_missing_removed_interpolation_df.plot(kind = 'hist', title = 'Histogram of Titanic Passenger Ages (Interpolated)')\n",
    "ages_missing_removed_interpolation_df.describe()"
   ]
  },
  {
   "cell_type": "markdown",
   "metadata": {},
   "source": [
    "The shape of the histogram is generally mound-shaped; however, it could be considered skewed slightly to the right (the mean is slightly higher than the median).  50% of the ages fall within the range of approximately 20 years to 38 years.  The youngest passengers was approximately 6 months old.  The oldest passenger was 80 years old.\n",
    "\n",
    "For comparison, the histogram for the data with interpolation used for the ages is displayed.  There are some minor differences with the summary statistics and shape of the histogram.  The histogram appears to be a bit more mound=shaped.  The median and mean are a little closer than for the histogram with the ages removed.  A minor change to the middle 50% of the data is evident due to its range being from 21 years to 38 years.\n",
    "\n",
    "Further analysis as to the best method of handling missing ages is needed.  For example, instead of using the built-in interpolation function, a method of using other data in the set (such as the number of siblings or parents) could be used to devise a more accurate value for the age of the passenger."
   ]
  },
  {
   "cell_type": "markdown",
   "metadata": {},
   "source": [
    "# Conclusions\n",
    "Based on the previous exploration and analysis, there does appear to be a relationship between survival and port of embarkation.  A larger than expected proportion of passengers who survived embarked at Cherbourg.  A larger than expected proportion of passengers who did not survive embarked at Southampton.  Another aspect of the analysis indicates that there is some type of relationship between port of embarkation and the class of the passenger.  About half of the passengers who embarked at Cherbourg were 1st class, and little more than half of the passengers who embarked at Southampton were 3rd class. This may indicate that there is also some type of relationship between the class of the passenger and survival rate (i.e. since a larger than expected percentage of passengers who did not survive embarked at Southampton, there may be something to the fact that most of these passengers were 3rd class).  An interesting observation is that the majority of passengers who embarked at Queenstown (93.51%) were 3rd class; however, the survival rates for these passengers were close to what would be expected.  A possible reason for this is that there were relatively few passengers who embarked at Queenstown.  77 passengers embarked at Queenstown which represented 8.66% of all passengers.  Since this is a small sample, one can expect to possibly obtain results that are more random or have more noise in the data.\n",
    "\n",
    "The ages of the passengers appears to be roughly normally distributed with 50% of the passengers being between the ages of 20 and 38 years of age.\n",
    "\n",
    "Further analysis to determine the statistical significance of these relationships is needed.  Relying solely on statistical measures such as the mean, median, or proportions in tables is problematic because these methods do not account for any inherent random variation within the data.  Proper statistical tests help account for this naturally occurring random variation in order to help discern a signal from the noisy/random data.  For example, a chi-squared test for independence could be conducted to examine the relationship between survival and point of embarkation.  The null hypothesis of this test would be that survival and point of embarkation are independent.  The alternative hypothesis would be that these variables are not independent.  Basically, it is assumed that these variables do not effect each other.  The test is run on the actual data to see if there is enough evidence to support a relationship.  Results of this test are below."
   ]
  },
  {
   "cell_type": "code",
   "execution_count": 176,
   "metadata": {
    "collapsed": false
   },
   "outputs": [
    {
     "name": "stdout",
     "output_type": "stream",
     "text": [
      "Chi-squared test statistic: 26.4891498392\n",
      "P-value: 0.000180450581016\n"
     ]
    }
   ],
   "source": [
    "sp.chi2_contingency(survived_by_embark_table)\n",
    "print \"Chi-squared test statistic:\",sp.chi2_contingency(survived_by_embark_table)[0]\n",
    "print \"P-value:\",sp.chi2_contingency(survived_by_embark_table)[1]"
   ]
  },
  {
   "cell_type": "markdown",
   "metadata": {},
   "source": [
    "With a p-value so small (p < 0.05), there is strong evidence to reject the null hypothesis that survival and port of embarkation are independent.  The data suggests that there is a relationship between survival and port of embarkation.\n",
    "\n",
    "As noted earlier, the way missing ages are handled could be refined.  Using other techniques (such as machine learning) and other variables within the data set, ages could be determined."
   ]
  },
  {
   "cell_type": "code",
   "execution_count": 190,
   "metadata": {
    "collapsed": false
   },
   "outputs": [],
   "source": [
    "#titanic_df.plot(x = 'SibSp', y = 'Age', kind = 'scatter')\n"
   ]
  },
  {
   "cell_type": "code",
   "execution_count": null,
   "metadata": {
    "collapsed": true
   },
   "outputs": [],
   "source": []
  }
 ],
 "metadata": {
  "kernelspec": {
   "display_name": "Python 2",
   "language": "python",
   "name": "python2"
  },
  "language_info": {
   "codemirror_mode": {
    "name": "ipython",
    "version": 2
   },
   "file_extension": ".py",
   "mimetype": "text/x-python",
   "name": "python",
   "nbconvert_exporter": "python",
   "pygments_lexer": "ipython2",
   "version": "2.7.11"
  }
 },
 "nbformat": 4,
 "nbformat_minor": 0
}
